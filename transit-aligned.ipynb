{
 "cells": [
  {
   "cell_type": "code",
   "execution_count": 1,
   "metadata": {},
   "outputs": [],
   "source": [
    "%matplotlib inline\n",
    "import matplotlib.pyplot as plt\n",
    "import h5py\n",
    "\n",
    "archive = h5py.File('hmi_twospots/archive.hdf5', 'r')\n",
    "dset = archive['images']"
   ]
  },
  {
   "cell_type": "code",
   "execution_count": 2,
   "metadata": {},
   "outputs": [],
   "source": [
    "from astropy.constants import R_jup, R_sun"
   ]
  },
  {
   "cell_type": "code",
   "execution_count": 3,
   "metadata": {},
   "outputs": [],
   "source": [
    "R_sun_pixels = 949.770386  # pixels\n",
    "RpRs = int(float(R_jup/R_sun) * R_sun_pixels) # pixels"
   ]
  },
  {
   "cell_type": "code",
   "execution_count": null,
   "metadata": {},
   "outputs": [],
   "source": [
    "import numpy as np\n",
    "y0 = 1537\n",
    "x0 = 0 \n",
    "\n",
    "x, y = np.meshgrid(np.arange(4096), np.arange(4096))\n",
    "\n",
    "for i in np.arange(0, dset.shape[0])[::-1]:\n",
    "    x0 = (dset.shape[0] - i)/dset.shape[0] * 4096\n",
    "\n",
    "    plt.figure(figsize=(10, 10))\n",
    "    image = dset[i, ...]\n",
    "    planet = (x - x0)**2 + (y - y0)**2 <= RpRs**2\n",
    "    image[planet] = 0\n",
    "    plt.imshow(image, vmin=5000, vmax=64000, cmap=plt.cm.inferno, origin='lower')\n",
    "    plt.xticks([])\n",
    "    plt.yticks([])\n",
    "    plt.savefig('animate/aligned/{0:03d}.png'.format(dset.shape[0] - i), bbox_inches='tight', transparent=True)\n",
    "    plt.close()"
   ]
  },
  {
   "cell_type": "code",
   "execution_count": null,
   "metadata": {},
   "outputs": [],
   "source": []
  }
 ],
 "metadata": {
  "kernelspec": {
   "display_name": "Python 3",
   "language": "python",
   "name": "python3"
  },
  "language_info": {
   "codemirror_mode": {
    "name": "ipython",
    "version": 3
   },
   "file_extension": ".py",
   "mimetype": "text/x-python",
   "name": "python",
   "nbconvert_exporter": "python",
   "pygments_lexer": "ipython3",
   "version": "3.5.4"
  }
 },
 "nbformat": 4,
 "nbformat_minor": 2
}
