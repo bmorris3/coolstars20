{
 "cells": [
  {
   "cell_type": "code",
   "execution_count": 1,
   "metadata": {},
   "outputs": [
    {
     "name": "stderr",
     "output_type": "stream",
     "text": [
      "/Users/bmmorris/anaconda/lib/python3.5/site-packages/glymur/config.py:171: UserWarning: Neither the openjp2 nor the openjpeg library could be loaded.  \n",
      "  warnings.warn(msg)\n"
     ]
    },
    {
     "ename": "RuntimeError",
     "evalue": "module compiled against API version 0xc but this version of numpy is 0xa",
     "output_type": "error",
     "traceback": [
      "\u001b[0;31m---------------------------------------------------------------------------\u001b[0m",
      "\u001b[0;31mRuntimeError\u001b[0m                              Traceback (most recent call last)",
      "\u001b[0;31mRuntimeError\u001b[0m: module compiled against API version 0xc but this version of numpy is 0xa"
     ]
    }
   ],
   "source": [
    "from sunpy.net import jsoc, attrs as a\n",
    "import astropy.units as u\n",
    "import numpy as np\n",
    "from glob import glob\n",
    "import time\n",
    "from sunpy.net.jsoc.jsoc import NotExportedError\n",
    "\n",
    "cadence = 1*u.min\n",
    "client = jsoc.JSOCClient()\n",
    "\n",
    "response = client.search(a.jsoc.Time('2013/5/13 15:55', '2013/5/13 18:55'),  #a.jsoc.Time('2010/1/1 12:00', '2013/7/18 12:00'),\n",
    "                         a.jsoc.Series('hmi.Ic_45s'),\n",
    "                         a.jsoc.Notify(\"brettmorris21@gmail.com\"),\n",
    "                         a.vso.Sample(cadence))\n",
    "print(response)\n",
    "requests = client.request_data(response)\n",
    "print(requests)\n",
    "time.sleep(30)\n",
    "res = client.get_request(requests, path='hmi_twospots/.', max_conn=10, overwrite=True)\n",
    "res.wait(progress=True)"
   ]
  },
  {
   "cell_type": "code",
   "execution_count": 2,
   "metadata": {},
   "outputs": [],
   "source": [
    "from astropy.io import fits\n",
    "\n",
    "paths = glob('hmi_twospots/*.fits')\n",
    "\n",
    "f = fits.open(paths[0], memmap=False)\n",
    "f[1].verify('silentfix')\n",
    "shape = f[1].data.shape"
   ]
  },
  {
   "cell_type": "code",
   "execution_count": 3,
   "metadata": {},
   "outputs": [],
   "source": [
    "\n",
    "import h5py\n",
    "f = h5py.File('hmi_twospots/archive.hdf5', 'w')\n",
    "\n",
    "dset = f.create_dataset(\"images\", shape=(len(paths), shape[0], shape[1]), dtype=int, \n",
    "                        compression='lzf')"
   ]
  },
  {
   "cell_type": "code",
   "execution_count": 4,
   "metadata": {},
   "outputs": [],
   "source": [
    "hdu = fits.open(paths[0], memmap=False)\n",
    "hdu[1].verify('silentfix')\n",
    "image = hdu[1].data\n",
    "\n",
    "dset[0, :, :] = image"
   ]
  },
  {
   "cell_type": "code",
   "execution_count": 5,
   "metadata": {},
   "outputs": [
    {
     "data": {
      "application/vnd.jupyter.widget-view+json": {
       "model_id": "a4054b8ba6404c51b85dbba4e7c27f72",
       "version_major": 2,
       "version_minor": 0
      },
      "text/html": [
       "<p>Failed to display Jupyter Widget of type <code>FloatProgress</code>.</p>\n",
       "<p>\n",
       "  If you're reading this message in the Jupyter Notebook or JupyterLab Notebook, it may mean\n",
       "  that the widgets JavaScript is still loading. If this message persists, it\n",
       "  likely means that the widgets JavaScript library is either not installed or\n",
       "  not enabled. See the <a href=\"https://ipywidgets.readthedocs.io/en/stable/user_install.html\">Jupyter\n",
       "  Widgets Documentation</a> for setup instructions.\n",
       "</p>\n",
       "<p>\n",
       "  If you're reading this message in another frontend (for example, a static\n",
       "  rendering on GitHub or <a href=\"https://nbviewer.jupyter.org/\">NBViewer</a>),\n",
       "  it may mean that your frontend doesn't currently support widgets.\n",
       "</p>\n"
      ],
      "text/plain": [
       "FloatProgress(value=0.0)"
      ]
     },
     "metadata": {},
     "output_type": "display_data"
    },
    {
     "name": "stdout",
     "output_type": "stream",
     "text": [
      "\n"
     ]
    }
   ],
   "source": [
    "from astropy.utils.console import ProgressBar\n",
    "\n",
    "with ProgressBar(len(paths), ipython_widget=True) as bar: \n",
    "    for i, path in enumerate(paths): \n",
    "        hdu = fits.open(path, memmap=False)\n",
    "        hdu[1].verify('silentfix')\n",
    "        image = hdu[1].data\n",
    "\n",
    "        dset[i, :, :] = image\n",
    "        bar.update()\n",
    "        f.flush()\n",
    "    f.close()"
   ]
  },
  {
   "cell_type": "code",
   "execution_count": null,
   "metadata": {},
   "outputs": [],
   "source": []
  }
 ],
 "metadata": {
  "kernelspec": {
   "display_name": "Python 3",
   "language": "python",
   "name": "python3"
  },
  "language_info": {
   "codemirror_mode": {
    "name": "ipython",
    "version": 3
   },
   "file_extension": ".py",
   "mimetype": "text/x-python",
   "name": "python",
   "nbconvert_exporter": "python",
   "pygments_lexer": "ipython3",
   "version": "3.5.4"
  }
 },
 "nbformat": 4,
 "nbformat_minor": 2
}
